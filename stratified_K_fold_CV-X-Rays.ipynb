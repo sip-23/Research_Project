{
 "cells": [
  {
   "cell_type": "code",
   "execution_count": 18,
   "metadata": {
    "colab": {
     "base_uri": "https://localhost:8080/"
    },
    "id": "D012NAIuorMu",
    "outputId": "e08a2742-c45d-45bd-b823-ba3fef129558"
   },
   "outputs": [],
   "source": [
    "\"\"\"\n",
    "@author: Siphamandla Mandindi\n",
    "\"\"\"\n",
    "\n",
    "# google_colab_flag = True # Make it False if do not intend to use Google Colab and want to train in local machine!!\n",
    "\n",
    "# # For training in Google Colab\n",
    "# if(google_colab_flag):\n",
    "#   from google.colab import drive\n",
    "#   drive.mount('/content/drive')\n",
    "#   !ls\n",
    "#   import sys\n",
    "#   root_path = '/content/drive/My Drive/Practice/Stratified-k-fold-cross-validation-Image-classification-keras/' # This is the path to where in google drive the code is stored!\n",
    "#   sys.path.append(root_path)\n",
    "\n",
    "# # For local training\n",
    "# else:\n",
    "root_path = 'C:/Users/ndira/Documents/University_of_the_Witwatersrand/Computer_Vision/Deep_Learning-master/Wits_Research_Report/Stratified-k-fold-cross-validation-Image-classification-keras-master/DS'"
   ]
  },
  {
   "cell_type": "markdown",
   "metadata": {
    "id": "NqsdF0XQos_l"
   },
   "source": [
    "# Add all necessary libraries!"
   ]
  },
  {
   "cell_type": "code",
   "execution_count": 2,
   "metadata": {
    "id": "JgKtTVe4ooDl"
   },
   "outputs": [],
   "source": [
    "import numpy as np\n",
    "from sklearn.metrics import accuracy_score, f1_score, precision_score, confusion_matrix\n",
    "from sklearn.model_selection import StratifiedKFold\n",
    "from PIL import Image\n",
    "import random\n",
    "import tensorflow as tf\n",
    "from tensorflow import keras\n",
    "from tensorflow.keras import layers\n",
    "from tensorflow.keras.models import Sequential\n",
    "from tensorflow.keras.layers import Dense\n",
    "from keras.preprocessing.image import ImageDataGenerator\n",
    "from tensorflow.keras.layers import Dropout\n",
    "from tensorflow.keras.layers import Flatten\n",
    "from tensorflow.keras.layers import Conv2D\n",
    "from tensorflow.keras.layers import MaxPooling2D\n",
    "from tensorflow.compat.v1 import ConfigProto\n",
    "from tensorflow.compat.v1 import InteractiveSession\n",
    "import warnings\n",
    "import os\n",
    "import shutil\n",
    "from PIL import ImageFile\n",
    "warnings.simplefilter('error', Image.DecompressionBombWarning)\n",
    "ImageFile.LOAD_TRUNCATED_IMAGES = True\n",
    "from PIL import Image\n",
    "Image.MAX_IMAGE_PIXELS = 1000000000\n",
    "# config = ConfigProto()\n",
    "# config.gpu_options.allow_growth = True\n",
    "# session = InteractiveSession(config=config)"
   ]
  },
  {
   "cell_type": "code",
   "execution_count": 3,
   "metadata": {},
   "outputs": [
    {
     "data": {
      "text/plain": [
       "['.ipynb_checkpoints',\n",
       " 'DS',\n",
       " 'README.md',\n",
       " 'stratified_K_fold_CV-X-Rays.ipynb',\n",
       " 'stratified_K_fold_CV_Shapes.ipynb']"
      ]
     },
     "execution_count": 3,
     "metadata": {},
     "output_type": "execute_result"
    }
   ],
   "source": [
    "os.listdir('.')"
   ]
  },
  {
   "cell_type": "code",
   "execution_count": 4,
   "metadata": {},
   "outputs": [],
   "source": [
    "os.chdir('DS')"
   ]
  },
  {
   "cell_type": "code",
   "execution_count": 5,
   "metadata": {},
   "outputs": [
    {
     "data": {
      "text/plain": [
       "['test', 'train', 'train_aug', 'validation']"
      ]
     },
     "execution_count": 5,
     "metadata": {},
     "output_type": "execute_result"
    }
   ],
   "source": [
    "os.listdir('.')"
   ]
  },
  {
   "cell_type": "code",
   "execution_count": 6,
   "metadata": {},
   "outputs": [],
   "source": [
    "os.chdir('train_aug')"
   ]
  },
  {
   "cell_type": "code",
   "execution_count": 7,
   "metadata": {},
   "outputs": [
    {
     "data": {
      "text/plain": [
       "['B-Pneumonia', 'Covid-19', 'Normal', 'Tuberculosis', 'V-Pneumonia']"
      ]
     },
     "execution_count": 7,
     "metadata": {},
     "output_type": "execute_result"
    }
   ],
   "source": [
    "os.listdir('.')"
   ]
  },
  {
   "cell_type": "code",
   "execution_count": 23,
   "metadata": {
    "id": "wnJCDGu4o5r-"
   },
   "outputs": [],
   "source": [
    "datasetFolderName=root_path\n",
    "MODEL_FILENAME=root_path+\"model_cv.h5\"\n",
    "sourceFiles=[]\n",
    "classLabels=['B-Pneumonia', 'Covid-19', 'Normal', 'Tuberculosis', 'V-Pneumonia']\n",
    "X=[]\n",
    "Y=[]\n",
    "\n",
    "img_rows, img_cols =  255, 255 # input image dimensions\n",
    "train_path=datasetFolderName+'/train_aug/'\n",
    "validation_path=datasetFolderName+'/validation/'\n",
    "test_path=datasetFolderName+'/test/'"
   ]
  },
  {
   "cell_type": "code",
   "execution_count": 20,
   "metadata": {
    "id": "Vk22FJ2lo980"
   },
   "outputs": [],
   "source": [
    "def transferBetweenFolders(source, dest, splitRate): \n",
    "    global sourceFiles\n",
    "    sourceFiles=os.listdir(source)\n",
    "    if(len(sourceFiles)!=0):\n",
    "        transferFileNumbers=int(len(sourceFiles)*splitRate)\n",
    "        transferIndex=random.sample(range(0, len(sourceFiles)), transferFileNumbers)\n",
    "        for eachIndex in transferIndex:\n",
    "            shutil.move(source+str(sourceFiles[eachIndex]), dest+str(sourceFiles[eachIndex]))\n",
    "    else:\n",
    "        print(\"No file moved. Source empty!\")\n",
    "        \n",
    "def transferAllClassBetweenFolders(source, dest, splitRate):\n",
    "    for label in classLabels:\n",
    "        transferBetweenFolders(datasetFolderName+'/'+source+'/'+label+'/', \n",
    "                               datasetFolderName+'/'+dest+'/'+label+'/', \n",
    "                               splitRate)\n",
    "\n",
    "def my_metrics(y_true, y_pred):\n",
    "    accuracy=accuracy_score(y_true, y_pred)\n",
    "    precision=precision_score(y_true, y_pred,average='weighted')\n",
    "    f1Score=f1_score(y_true, y_pred, average='weighted') \n",
    "    print(\"Accuracy  : {}\".format(accuracy))\n",
    "    print(\"Precision : {}\".format(precision))\n",
    "    print(\"f1Score : {}\".format(f1Score))\n",
    "    cm=confusion_matrix(y_true, y_pred)\n",
    "    print(cm)\n",
    "    return accuracy, precision, f1Score\n"
   ]
  },
  {
   "cell_type": "markdown",
   "metadata": {
    "id": "lutTsY_KpIts"
   },
   "source": [
    "# First, check if test folder is empty or not, if not transfer all existing files to train."
   ]
  },
  {
   "cell_type": "code",
   "execution_count": 21,
   "metadata": {
    "id": "8bnuEdnTo-CL"
   },
   "outputs": [
    {
     "name": "stdout",
     "output_type": "stream",
     "text": [
      "No file moved. Source empty!\n",
      "No file moved. Source empty!\n",
      "No file moved. Source empty!\n",
      "No file moved. Source empty!\n",
      "No file moved. Source empty!\n"
     ]
    }
   ],
   "source": [
    "transferAllClassBetweenFolders('test', 'train', 1.0)"
   ]
  },
  {
   "cell_type": "markdown",
   "metadata": {
    "id": "Uf_j9bHZpMp0"
   },
   "source": [
    "# Now, split some part of train data into the test folders."
   ]
  },
  {
   "cell_type": "code",
   "execution_count": 25,
   "metadata": {
    "id": "ySOvsWMZpPFl"
   },
   "outputs": [],
   "source": [
    "transferAllClassBetweenFolders('train_aug', 'test', 0.20)"
   ]
  },
  {
   "cell_type": "code",
   "execution_count": 26,
   "metadata": {
    "id": "X_6tNUr8pw1b"
   },
   "outputs": [],
   "source": [
    "def prepareNameWithLabels(folderName):\n",
    "    sourceFiles=os.listdir(datasetFolderName+'/train_aug/'+folderName)\n",
    "    for val in sourceFiles:\n",
    "        X.append(val)\n",
    "        for i in range(len(classLabels)):\n",
    "          if(folderName==classLabels[i]):\n",
    "              Y.append(i)"
   ]
  },
  {
   "cell_type": "code",
   "execution_count": 27,
   "metadata": {
    "id": "ABR_vPykp6Fx"
   },
   "outputs": [],
   "source": [
    "# Organize file names and class labels in X and Y variables\n",
    "for i in range(len(classLabels)):\n",
    "  prepareNameWithLabels(classLabels[i])"
   ]
  },
  {
   "cell_type": "code",
   "execution_count": 28,
   "metadata": {
    "id": "ct4KgEXpp8vz"
   },
   "outputs": [],
   "source": [
    "X=np.asarray(X)\n",
    "Y=np.asarray(Y)"
   ]
  },
  {
   "cell_type": "code",
   "execution_count": 30,
   "metadata": {},
   "outputs": [
    {
     "data": {
      "text/plain": [
       "(19923,)"
      ]
     },
     "execution_count": 30,
     "metadata": {},
     "output_type": "execute_result"
    }
   ],
   "source": [
    "X.shape"
   ]
  },
  {
   "cell_type": "code",
   "execution_count": 32,
   "metadata": {},
   "outputs": [
    {
     "data": {
      "text/plain": [
       "(19923,)"
      ]
     },
     "execution_count": 32,
     "metadata": {},
     "output_type": "execute_result"
    }
   ],
   "source": [
    "Y.shape"
   ]
  },
  {
   "cell_type": "code",
   "execution_count": 41,
   "metadata": {
    "id": "zrlZd93LqAOj"
   },
   "outputs": [],
   "source": [
    "# Note that, this model structure is a very basic one. To achieve better performance, you should change the model structure and hyperparameters according to your needs and data.\n",
    "batch_size = 128\n",
    "epoch=20\n",
    "activationFunction='relu'\n",
    "\n",
    "def getModel():\n",
    "    import tensorflow.keras as tfK\n",
    "    from tensorflow.keras.applications import Xception\n",
    "\n",
    "    input_t = tfK.Input(shape=(255,255,3))\n",
    "    \n",
    "    conv_base = Xception(weights='imagenet',\n",
    "                      include_top=False,\n",
    "                      input_tensor= input_t)\n",
    "    conv_base.trainable = True\n",
    "    \n",
    "    Coromodel = tfK.models.Sequential()\n",
    "    Coromodel.add(conv_base)\n",
    "    Coromodel.add(layers.Flatten())\n",
    "    Coromodel.add(layers.Dropout(0.5))\n",
    "    Coromodel.add(layers.Dense(256, activation='relu'))\n",
    "    Coromodel.add(layers.Dense(len(classLabels), activation='softmax'))\n",
    "    \n",
    "    Coromodel.compile(loss = 'categorical_crossentropy',\n",
    "                      optimizer = tf.optimizers.Adam(learning_rate = 1e-4),\n",
    "                      metrics = ['accuracy'])\n",
    "\n",
    "    return Coromodel\n",
    "\n",
    "model=getModel()"
   ]
  },
  {
   "cell_type": "markdown",
   "metadata": {
    "id": "0HV84D6Kqfoc"
   },
   "source": []
  },
  {
   "cell_type": "markdown",
   "metadata": {
    "id": "c9_h0Kviqfqp"
   },
   "source": [
    "# **Stratified K-Fold Cross validation**"
   ]
  },
  {
   "cell_type": "code",
   "execution_count": null,
   "metadata": {
    "colab": {
     "base_uri": "https://localhost:8080/"
    },
    "id": "8Eey7KqgqUez",
    "outputId": "d19a2140-ce73-45cd-bb85-b96cf6598af6"
   },
   "outputs": [
    {
     "name": "stdout",
     "output_type": "stream",
     "text": [
      "Results for fold 1\n",
      "Found 15938 images belonging to 5 classes.\n",
      "Found 3985 images belonging to 5 classes.\n",
      "Epoch 1/20\n",
      " 87/125 [===================>..........] - ETA: 1:05:58 - loss: 0.6260 - accuracy: 0.7788"
     ]
    }
   ],
   "source": [
    "# ===============Stratified K-Fold======================\n",
    "skf = StratifiedKFold(n_splits=5, shuffle=True)\n",
    "skf.get_n_splits(X, Y)\n",
    "foldNum=0\n",
    "for train_index, val_index in skf.split(X, Y):\n",
    "    #First cut all images from validation to train (if any exists)\n",
    "    transferAllClassBetweenFolders('validation', 'train_aug', 1.0)\n",
    "    foldNum+=1\n",
    "    print(\"Results for fold\",foldNum)\n",
    "    X_train, X_val = X[train_index], X[val_index]\n",
    "    Y_train, Y_val = Y[train_index], Y[val_index]\n",
    "    # Move validation images of this fold from train folder to the validation folder\n",
    "    for eachIndex in range(len(X_val)):\n",
    "        classLabel=''\n",
    "        for i in range(len(classLabels)):\n",
    "          if(Y_val[eachIndex]==i):\n",
    "              classLabel=classLabels[i]\n",
    "        #Then, copy the validation images to the validation folder\n",
    "        shutil.move(datasetFolderName+'/train_aug/'+classLabel+'/'+X_val[eachIndex], \n",
    "                    datasetFolderName+'/validation/'+classLabel+'/'+X_val[eachIndex])\n",
    "        \n",
    "    train_datagen = ImageDataGenerator(\n",
    "                      rescale=1./255,\n",
    "                      zoom_range=0.20,\n",
    "                      fill_mode=\"nearest\")\n",
    "    validation_datagen = ImageDataGenerator(rescale=1./255)\n",
    "    test_datagen = ImageDataGenerator(rescale=1./255)\n",
    "        \n",
    "    #Start ImageClassification Model\n",
    "    train_generator = train_datagen.flow_from_directory(\n",
    "        train_path,\n",
    "        target_size=(img_rows, img_cols),\n",
    "        batch_size=batch_size,\n",
    "        class_mode='categorical',\n",
    "        subset='training')\n",
    "\n",
    "    validation_generator = validation_datagen.flow_from_directory(\n",
    "        validation_path,\n",
    "        target_size=(img_rows, img_cols),\n",
    "        batch_size=batch_size,\n",
    "        class_mode=None,  # only data, no labels\n",
    "        shuffle=False)   \n",
    "   \n",
    "    # fit model\n",
    "    history= model.fit(train_generator, \n",
    "                        epochs=epoch)\n",
    "    \n",
    "    predictions = Coromodel.predict_generator(validation_generator, verbose=1)\n",
    "    yPredictions = np.argmax(predictions, axis=1)\n",
    "    true_classes = validation_generator.classes\n",
    "    # evaluate validation performance\n",
    "    print(\"***Performance on Validation data***\")    \n",
    "    valAcc, valPrec, valFScore = my_metrics(true_classes, yPredictions)"
   ]
  },
  {
   "cell_type": "markdown",
   "metadata": {
    "id": "AvIlpPcxqaf3"
   },
   "source": [
    "# Test phase"
   ]
  },
  {
   "cell_type": "code",
   "execution_count": 12,
   "metadata": {
    "colab": {
     "base_uri": "https://localhost:8080/"
    },
    "id": "doo1xZFqqW1H",
    "outputId": "c91d9f79-7ec3-4a9e-86a2-c0c18601ecf6"
   },
   "outputs": [
    {
     "name": "stdout",
     "output_type": "stream",
     "text": [
      "==============TEST RESULTS============\n",
      "Found 45 images belonging to 3 classes.\n",
      "1/1 [==============================] - 0s 452ms/step\n",
      "Accuracy  : 0.8666666666666667\n",
      "Precision : 0.8708333333333333\n",
      "f1Score : 0.8680756395995552\n",
      "[[12  0  3]\n",
      " [ 1 14  0]\n",
      " [ 2  0 13]]\n"
     ]
    }
   ],
   "source": [
    "print(\"==============TEST RESULTS============\")\n",
    "test_generator = test_datagen.flow_from_directory(\n",
    "        test_path,\n",
    "        target_size=(img_rows, img_cols),\n",
    "        batch_size=batch_size,\n",
    "        class_mode=None,\n",
    "        shuffle=False) \n",
    "predictions = model.predict(test_generator, verbose=1)\n",
    "yPredictions = np.argmax(predictions, axis=1)\n",
    "true_classes = test_generator.classes\n",
    "\n",
    "testAcc,testPrec, testFScore = my_metrics(true_classes, yPredictions)\n",
    "model.save(MODEL_FILENAME)"
   ]
  }
 ],
 "metadata": {
  "accelerator": "GPU",
  "colab": {
   "collapsed_sections": [],
   "name": "stratified-K-fold-CV.ipynb",
   "provenance": []
  },
  "kernelspec": {
   "display_name": "Python 3",
   "language": "python",
   "name": "python3"
  },
  "language_info": {
   "codemirror_mode": {
    "name": "ipython",
    "version": 3
   },
   "file_extension": ".py",
   "mimetype": "text/x-python",
   "name": "python",
   "nbconvert_exporter": "python",
   "pygments_lexer": "ipython3",
   "version": "3.8.3"
  }
 },
 "nbformat": 4,
 "nbformat_minor": 1
}
